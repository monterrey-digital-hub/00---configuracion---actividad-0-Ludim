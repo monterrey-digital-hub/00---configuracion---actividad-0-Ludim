{
  "nbformat": 4,
  "nbformat_minor": 0,
  "metadata": {
    "colab": {
      "name": "PySpark_Actividad1.ipynb",
      "provenance": []
    },
    "kernelspec": {
      "name": "python3",
      "display_name": "Python 3"
    },
    "language_info": {
      "name": "python"
    }
  },
  "cells": [
    {
      "cell_type": "markdown",
      "source": [
        "# PySpark Actividad 1\n",
        "Corre la siguiente celda sin nungún problema, recordando la configuración que vimos"
      ],
      "metadata": {
        "id": "btpoZBERGat2"
      }
    },
    {
      "cell_type": "code",
      "execution_count": null,
      "metadata": {
        "id": "eAHxo_HqFNkD"
      },
      "outputs": [],
      "source": [
        "from google.colab import drive\n",
        "drive.mount('/content/drive')"
      ]
    },
    {
      "cell_type": "code",
      "source": [
        "!pip install pyspark"
      ],
      "metadata": {
        "colab": {
          "base_uri": "https://localhost:8080/"
        },
        "id": "ZNE0JjihF3Vi",
        "outputId": "e4a56d77-bd97-4c1d-fde4-5417a28de7b3"
      },
      "execution_count": 2,
      "outputs": [
        {
          "output_type": "stream",
          "name": "stdout",
          "text": [
            "Collecting pyspark\n",
            "  Downloading pyspark-3.2.1.tar.gz (281.4 MB)\n",
            "\u001b[K     |████████████████████████████████| 281.4 MB 34 kB/s \n",
            "\u001b[?25hCollecting py4j==0.10.9.3\n",
            "  Downloading py4j-0.10.9.3-py2.py3-none-any.whl (198 kB)\n",
            "\u001b[K     |████████████████████████████████| 198 kB 45.4 MB/s \n",
            "\u001b[?25hBuilding wheels for collected packages: pyspark\n",
            "  Building wheel for pyspark (setup.py) ... \u001b[?25l\u001b[?25hdone\n",
            "  Created wheel for pyspark: filename=pyspark-3.2.1-py2.py3-none-any.whl size=281853642 sha256=35046d2bafce63ef40df315e757276ee0f940aae4de23f3705614f5c615b399a\n",
            "  Stored in directory: /root/.cache/pip/wheels/9f/f5/07/7cd8017084dce4e93e84e92efd1e1d5334db05f2e83bcef74f\n",
            "Successfully built pyspark\n",
            "Installing collected packages: py4j, pyspark\n",
            "Successfully installed py4j-0.10.9.3 pyspark-3.2.1\n"
          ]
        }
      ]
    },
    {
      "cell_type": "code",
      "source": [
        "import pyspark as ps\n",
        "import random\n",
        "spark = ps.sql.SparkSession.builder \\\n",
        "        .appName(\"rdd test\") \\\n",
        "        .getOrCreate()\n",
        "\n",
        "random.seed(1)\n",
        "\n",
        "def sample(p):\n",
        "  x, y = random.random(), random.random()\n",
        "  return 1 if x*x + y*y < 1 else 0\n",
        "\n",
        "count = spark.sparkContext.parallelize(range(0, 10_000_000)).map(sample) \\\n",
        "        .reduce(lambda a, b: a+b)\n",
        "\n",
        "print(\"Pi is (very) roughly {}\". format(4.0 * count/10_000_000))"
      ],
      "metadata": {
        "colab": {
          "base_uri": "https://localhost:8080/"
        },
        "id": "uLkklpyHFWm6",
        "outputId": "baca2fad-8e1f-46b0-93bb-869f564939bb"
      },
      "execution_count": 3,
      "outputs": [
        {
          "output_type": "stream",
          "name": "stdout",
          "text": [
            "Pi is (very) roughly 3.1419828\n"
          ]
        }
      ]
    },
    {
      "cell_type": "markdown",
      "source": [
        "El resultado debe ser:\n",
        "\n",
        "\n",
        "\n",
        "```\n",
        "Pi is (very) roughly 3.1414944\n",
        "```\n",
        "\n",
        "¿Qué hace la función sample(p)?\n",
        "\n"
      ],
      "metadata": {
        "id": "yB5H6ehYGs2Z"
      }
    },
    {
      "cell_type": "code",
      "source": [
        ""
      ],
      "metadata": {
        "id": "aXulMCWfGnnV"
      },
      "execution_count": null,
      "outputs": []
    }
  ]
}